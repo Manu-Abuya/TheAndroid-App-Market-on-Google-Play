{
  "cells": [
    {
      "cell_type": "markdown",
      "metadata": {
        "id": "view-in-github",
        "colab_type": "text"
      },
      "source": [
        "<a href=\"https://colab.research.google.com/github/Manu-Abuya/TheAndroid-App-Market-on-Google-Play/blob/master/Unguided_The_Android_App_Market_on_Google_Play.ipynb\" target=\"_parent\"><img src=\"https://colab.research.google.com/assets/colab-badge.svg\" alt=\"Open In Colab\"/></a>"
      ]
    },
    {
      "metadata": {
        "dc": {
          "key": "4"
        },
        "deletable": false,
        "editable": false,
        "run_control": {
          "frozen": true
        },
        "tags": [
          "context"
        ],
        "id": "7ySRQ1fL3Hpj"
      },
      "cell_type": "markdown",
      "source": [
        "## 1. Introduction\n",
        "<p><img src=\"https://assets.datacamp.com/production/project_1197/img/google_play_store.png\" alt=\"Google Play logo\"></p>\n",
        "<p>Mobile apps are everywhere. They are easy to create and can be very lucrative from the business standpoint. Specifically, Android is expanding as an operating system and has captured more than 74% of the total market<sup><a href=\"https://www.statista.com/statistics/272698/global-market-share-held-by-mobile-operating-systems-since-2009\">[1]</a></sup>. </p>\n",
        "<p>The Google Play Store apps data has enormous potential to facilitate data-driven decisions and insights for businesses. In this notebook, we will analyze the Android app market by comparing ~10k apps in Google Play across different categories. We will also use the user reviews to draw a qualitative comparision between the apps.</p>\n",
        "<p>The dataset you will use here was scraped from Google Play Store in September 2018 and was published on <a href=\"https://www.kaggle.com/lava18/google-play-store-apps\">Kaggle</a>. Here are the details: <br>\n",
        "<br></p>\n",
        "<div style=\"background-color: #efebe4; color: #05192d; text-align:left; vertical-align: middle; padding: 15px 25px 15px 25px; line-height: 1.6;\">\n",
        "    <div style=\"font-size:20px\"><b>datasets/apps.csv</b></div>\n",
        "This file contains all the details of the apps on Google Play. There are 9 features that describe a given app.\n",
        "<ul>\n",
        "    <li><b>App:</b> Name of the app</li>\n",
        "    <li><b>Category:</b> Category of the app. Some examples are: ART_AND_DESIGN, FINANCE, COMICS, BEAUTY etc.</li>\n",
        "    <li><b>Rating:</b> The current average rating (out of 5) of the app on Google Play</li>\n",
        "    <li><b>Reviews:</b> Number of user reviews given on the app</li>\n",
        "    <li><b>Size:</b> Size of the app in MB (megabytes)</li>\n",
        "    <li><b>Installs:</b> Number of times the app was downloaded from Google Play</li>\n",
        "    <li><b>Type:</b> Whether the app is paid or free</li>\n",
        "    <li><b>Price:</b> Price of the app in US$</li>\n",
        "    <li><b>Last Updated:</b> Date on which the app was last updated on Google Play </li>\n",
        "\n",
        "</ul>\n",
        "</div>\n",
        "<div style=\"background-color: #efebe4; color: #05192d; text-align:left; vertical-align: middle; padding: 15px 25px 15px 25px; line-height: 1.6;\">\n",
        "    <div style=\"font-size:20px\"><b>datasets/user_reviews.csv</b></div>\n",
        "This file contains a random sample of 100 <i>[most helpful first](https://www.androidpolice.com/2019/01/21/google-play-stores-redesigned-ratings-and-reviews-section-lets-you-easily-filter-by-star-rating/)</i> user reviews for each app. The text in each review has been pre-processed and passed through a sentiment analyzer.\n",
        "<ul>\n",
        "    <li><b>App:</b> Name of the app on which the user review was provided. Matches the `App` column of the `apps.csv` file</li>\n",
        "    <li><b>Review:</b> The pre-processed user review text</li>\n",
        "    <li><b>Sentiment Category:</b> Sentiment category of the user review - Positive, Negative or Neutral</li>\n",
        "    <li><b>Sentiment Score:</b> Sentiment score of the user review. It lies between [-1,1]. A higher score denotes a more positive sentiment.</li>\n",
        "\n",
        "</ul>\n",
        "</div>\n",
        "<p>From here on, it will be your task to explore and manipulate the data until you are able to answer the three questions described in the instructions panel.<br></p>"
      ]
    },
    {
      "metadata": {
        "dc": {
          "key": "4"
        },
        "tags": [
          "sample_code"
        ],
        "collapsed": true,
        "trusted": true,
        "id": "-clXQ28p3Hpm"
      },
      "cell_type": "code",
      "source": [
        "# Use this cell to begin your analysis, and add as many as you would like!"
      ],
      "execution_count": null,
      "outputs": []
    },
    {
      "metadata": {
        "dc": {
          "key": "4"
        },
        "collapsed": true,
        "trusted": true,
        "id": "zSB9dWru3Hpm"
      },
      "cell_type": "code",
      "source": [
        "import pandas as pd"
      ],
      "execution_count": null,
      "outputs": []
    },
    {
      "metadata": {
        "dc": {
          "key": "4"
        },
        "trusted": true,
        "id": "3IULEqr63Hpn",
        "outputId": "f367ac00-3a49-454d-f09e-35dc8f7f86fc"
      },
      "cell_type": "code",
      "source": [
        "apps = pd.read_csv('datasets/apps.csv')\n",
        "apps.info()\n",
        "apps.head()"
      ],
      "execution_count": null,
      "outputs": [
        {
          "output_type": "stream",
          "text": "<class 'pandas.core.frame.DataFrame'>\nRangeIndex: 9659 entries, 0 to 9658\nData columns (total 9 columns):\nApp             9659 non-null object\nCategory        9659 non-null object\nRating          8196 non-null float64\nReviews         9659 non-null int64\nSize            8432 non-null float64\nInstalls        9659 non-null object\nType            9659 non-null object\nPrice           9659 non-null float64\nLast Updated    9659 non-null object\ndtypes: float64(3), int64(1), object(5)\nmemory usage: 679.2+ KB\n",
          "name": "stdout"
        },
        {
          "output_type": "execute_result",
          "execution_count": 53,
          "data": {
            "text/plain": "                                                 App        Category  Rating  \\\n0     Photo Editor & Candy Camera & Grid & ScrapBook  ART_AND_DESIGN     4.1   \n1                                Coloring book moana  ART_AND_DESIGN     3.9   \n2  U Launcher Lite – FREE Live Cool Themes, Hide ...  ART_AND_DESIGN     4.7   \n3                              Sketch - Draw & Paint  ART_AND_DESIGN     4.5   \n4              Pixel Draw - Number Art Coloring Book  ART_AND_DESIGN     4.3   \n\n   Reviews  Size     Installs  Type  Price      Last Updated  \n0      159  19.0      10,000+  Free    0.0   January 7, 2018  \n1      967  14.0     500,000+  Free    0.0  January 15, 2018  \n2    87510   8.7   5,000,000+  Free    0.0    August 1, 2018  \n3   215644  25.0  50,000,000+  Free    0.0      June 8, 2018  \n4      967   2.8     100,000+  Free    0.0     June 20, 2018  ",
            "text/html": "<div>\n<style scoped>\n    .dataframe tbody tr th:only-of-type {\n        vertical-align: middle;\n    }\n\n    .dataframe tbody tr th {\n        vertical-align: top;\n    }\n\n    .dataframe thead th {\n        text-align: right;\n    }\n</style>\n<table border=\"1\" class=\"dataframe\">\n  <thead>\n    <tr style=\"text-align: right;\">\n      <th></th>\n      <th>App</th>\n      <th>Category</th>\n      <th>Rating</th>\n      <th>Reviews</th>\n      <th>Size</th>\n      <th>Installs</th>\n      <th>Type</th>\n      <th>Price</th>\n      <th>Last Updated</th>\n    </tr>\n  </thead>\n  <tbody>\n    <tr>\n      <th>0</th>\n      <td>Photo Editor &amp; Candy Camera &amp; Grid &amp; ScrapBook</td>\n      <td>ART_AND_DESIGN</td>\n      <td>4.1</td>\n      <td>159</td>\n      <td>19.0</td>\n      <td>10,000+</td>\n      <td>Free</td>\n      <td>0.0</td>\n      <td>January 7, 2018</td>\n    </tr>\n    <tr>\n      <th>1</th>\n      <td>Coloring book moana</td>\n      <td>ART_AND_DESIGN</td>\n      <td>3.9</td>\n      <td>967</td>\n      <td>14.0</td>\n      <td>500,000+</td>\n      <td>Free</td>\n      <td>0.0</td>\n      <td>January 15, 2018</td>\n    </tr>\n    <tr>\n      <th>2</th>\n      <td>U Launcher Lite – FREE Live Cool Themes, Hide ...</td>\n      <td>ART_AND_DESIGN</td>\n      <td>4.7</td>\n      <td>87510</td>\n      <td>8.7</td>\n      <td>5,000,000+</td>\n      <td>Free</td>\n      <td>0.0</td>\n      <td>August 1, 2018</td>\n    </tr>\n    <tr>\n      <th>3</th>\n      <td>Sketch - Draw &amp; Paint</td>\n      <td>ART_AND_DESIGN</td>\n      <td>4.5</td>\n      <td>215644</td>\n      <td>25.0</td>\n      <td>50,000,000+</td>\n      <td>Free</td>\n      <td>0.0</td>\n      <td>June 8, 2018</td>\n    </tr>\n    <tr>\n      <th>4</th>\n      <td>Pixel Draw - Number Art Coloring Book</td>\n      <td>ART_AND_DESIGN</td>\n      <td>4.3</td>\n      <td>967</td>\n      <td>2.8</td>\n      <td>100,000+</td>\n      <td>Free</td>\n      <td>0.0</td>\n      <td>June 20, 2018</td>\n    </tr>\n  </tbody>\n</table>\n</div>"
          },
          "metadata": {}
        }
      ]
    },
    {
      "metadata": {
        "dc": {
          "key": "4"
        },
        "trusted": true,
        "id": "QPSxQae93Hpo",
        "outputId": "6a519355-c384-4422-cc83-13f073a9f279"
      },
      "cell_type": "code",
      "source": [
        "chars_to_remove = [',', '+']\n",
        "\n",
        "for char in chars_to_remove:\n",
        "    apps['Installs'] = apps['Installs'].apply(lambda x: x.replace(char, ''))\n",
        "    \n",
        "    apps.head()\n",
        "    apps.info()"
      ],
      "execution_count": null,
      "outputs": [
        {
          "output_type": "stream",
          "text": "<class 'pandas.core.frame.DataFrame'>\nRangeIndex: 9659 entries, 0 to 9658\nData columns (total 9 columns):\nApp             9659 non-null object\nCategory        9659 non-null object\nRating          8196 non-null float64\nReviews         9659 non-null int64\nSize            8432 non-null float64\nInstalls        9659 non-null object\nType            9659 non-null object\nPrice           9659 non-null float64\nLast Updated    9659 non-null object\ndtypes: float64(3), int64(1), object(5)\nmemory usage: 679.2+ KB\n<class 'pandas.core.frame.DataFrame'>\nRangeIndex: 9659 entries, 0 to 9658\nData columns (total 9 columns):\nApp             9659 non-null object\nCategory        9659 non-null object\nRating          8196 non-null float64\nReviews         9659 non-null int64\nSize            8432 non-null float64\nInstalls        9659 non-null object\nType            9659 non-null object\nPrice           9659 non-null float64\nLast Updated    9659 non-null object\ndtypes: float64(3), int64(1), object(5)\nmemory usage: 679.2+ KB\n",
          "name": "stdout"
        }
      ]
    },
    {
      "metadata": {
        "dc": {
          "key": "4"
        },
        "trusted": true,
        "id": "dCFz_8hn3Hpp",
        "outputId": "b8ac8f93-184d-4b76-8c8e-6060df8dce57"
      },
      "cell_type": "code",
      "source": [
        "apps['Installs'] = apps['Installs'].astype(int)\n",
        "apps.info()"
      ],
      "execution_count": null,
      "outputs": [
        {
          "output_type": "stream",
          "text": "<class 'pandas.core.frame.DataFrame'>\nRangeIndex: 9659 entries, 0 to 9658\nData columns (total 9 columns):\nApp             9659 non-null object\nCategory        9659 non-null object\nRating          8196 non-null float64\nReviews         9659 non-null int64\nSize            8432 non-null float64\nInstalls        9659 non-null int64\nType            9659 non-null object\nPrice           9659 non-null float64\nLast Updated    9659 non-null object\ndtypes: float64(3), int64(2), object(4)\nmemory usage: 679.2+ KB\n",
          "name": "stdout"
        }
      ]
    },
    {
      "metadata": {
        "dc": {
          "key": "4"
        },
        "trusted": true,
        "id": "2f_D3a8n3Hpp",
        "outputId": "a1a4d3f7-1587-432e-c30c-a8c1cf9b0616"
      },
      "cell_type": "code",
      "source": [
        "app_category_info = apps.groupby('Category').agg({'App': 'count', 'Price': 'mean', 'Rating': 'mean'})\n",
        "app_category_info"
      ],
      "execution_count": null,
      "outputs": [
        {
          "output_type": "execute_result",
          "execution_count": 56,
          "data": {
            "text/plain": "                      App     Price    Rating\nCategory                                     \nART_AND_DESIGN         64  0.093281  4.357377\nAUTO_AND_VEHICLES      85  0.158471  4.190411\nBEAUTY                 53  0.000000  4.278571\nBOOKS_AND_REFERENCE   222  0.539505  4.344970\nBUSINESS              420  0.417357  4.098479\nCOMICS                 56  0.000000  4.181481\nCOMMUNICATION         315  0.263937  4.121484\nDATING                171  0.160468  3.970149\nEDUCATION             119  0.150924  4.364407\nENTERTAINMENT         102  0.078235  4.135294\nEVENTS                 64  1.718594  4.435556\nFAMILY               1832  1.309967  4.179664\nFINANCE               345  8.408203  4.115563\nFOOD_AND_DRINK        112  0.075714  4.172340\nGAME                  959  0.296465  4.247368\nHEALTH_AND_FITNESS    288  0.223438  4.243033\nHOUSE_AND_HOME         74  0.000000  4.150000\nLIBRARIES_AND_DEMO     84  0.011786  4.178125\nLIFESTYLE             369  6.398022  4.093355\nMAPS_AND_NAVIGATION   131  0.205725  4.036441\nMEDICAL               395  2.520759  4.166552\nNEWS_AND_MAGAZINES    254  0.015669  4.121569\nPARENTING              60  0.159667  4.300000\nPERSONALIZATION       376  0.400213  4.332215\nPHOTOGRAPHY           281  0.420925  4.157414\nPRODUCTIVITY          374  0.670936  4.183389\nSHOPPING              202  0.027129  4.230000\nSOCIAL                239  0.066820  4.247291\nSPORTS                325  0.307692  4.216154\nTOOLS                 827  0.323156  4.039554\nTRAVEL_AND_LOCAL      219  0.228082  4.069519\nVIDEO_PLAYERS         163  0.064172  4.044595\nWEATHER                79  0.410380  4.243056",
            "text/html": "<div>\n<style scoped>\n    .dataframe tbody tr th:only-of-type {\n        vertical-align: middle;\n    }\n\n    .dataframe tbody tr th {\n        vertical-align: top;\n    }\n\n    .dataframe thead th {\n        text-align: right;\n    }\n</style>\n<table border=\"1\" class=\"dataframe\">\n  <thead>\n    <tr style=\"text-align: right;\">\n      <th></th>\n      <th>App</th>\n      <th>Price</th>\n      <th>Rating</th>\n    </tr>\n    <tr>\n      <th>Category</th>\n      <th></th>\n      <th></th>\n      <th></th>\n    </tr>\n  </thead>\n  <tbody>\n    <tr>\n      <th>ART_AND_DESIGN</th>\n      <td>64</td>\n      <td>0.093281</td>\n      <td>4.357377</td>\n    </tr>\n    <tr>\n      <th>AUTO_AND_VEHICLES</th>\n      <td>85</td>\n      <td>0.158471</td>\n      <td>4.190411</td>\n    </tr>\n    <tr>\n      <th>BEAUTY</th>\n      <td>53</td>\n      <td>0.000000</td>\n      <td>4.278571</td>\n    </tr>\n    <tr>\n      <th>BOOKS_AND_REFERENCE</th>\n      <td>222</td>\n      <td>0.539505</td>\n      <td>4.344970</td>\n    </tr>\n    <tr>\n      <th>BUSINESS</th>\n      <td>420</td>\n      <td>0.417357</td>\n      <td>4.098479</td>\n    </tr>\n    <tr>\n      <th>COMICS</th>\n      <td>56</td>\n      <td>0.000000</td>\n      <td>4.181481</td>\n    </tr>\n    <tr>\n      <th>COMMUNICATION</th>\n      <td>315</td>\n      <td>0.263937</td>\n      <td>4.121484</td>\n    </tr>\n    <tr>\n      <th>DATING</th>\n      <td>171</td>\n      <td>0.160468</td>\n      <td>3.970149</td>\n    </tr>\n    <tr>\n      <th>EDUCATION</th>\n      <td>119</td>\n      <td>0.150924</td>\n      <td>4.364407</td>\n    </tr>\n    <tr>\n      <th>ENTERTAINMENT</th>\n      <td>102</td>\n      <td>0.078235</td>\n      <td>4.135294</td>\n    </tr>\n    <tr>\n      <th>EVENTS</th>\n      <td>64</td>\n      <td>1.718594</td>\n      <td>4.435556</td>\n    </tr>\n    <tr>\n      <th>FAMILY</th>\n      <td>1832</td>\n      <td>1.309967</td>\n      <td>4.179664</td>\n    </tr>\n    <tr>\n      <th>FINANCE</th>\n      <td>345</td>\n      <td>8.408203</td>\n      <td>4.115563</td>\n    </tr>\n    <tr>\n      <th>FOOD_AND_DRINK</th>\n      <td>112</td>\n      <td>0.075714</td>\n      <td>4.172340</td>\n    </tr>\n    <tr>\n      <th>GAME</th>\n      <td>959</td>\n      <td>0.296465</td>\n      <td>4.247368</td>\n    </tr>\n    <tr>\n      <th>HEALTH_AND_FITNESS</th>\n      <td>288</td>\n      <td>0.223438</td>\n      <td>4.243033</td>\n    </tr>\n    <tr>\n      <th>HOUSE_AND_HOME</th>\n      <td>74</td>\n      <td>0.000000</td>\n      <td>4.150000</td>\n    </tr>\n    <tr>\n      <th>LIBRARIES_AND_DEMO</th>\n      <td>84</td>\n      <td>0.011786</td>\n      <td>4.178125</td>\n    </tr>\n    <tr>\n      <th>LIFESTYLE</th>\n      <td>369</td>\n      <td>6.398022</td>\n      <td>4.093355</td>\n    </tr>\n    <tr>\n      <th>MAPS_AND_NAVIGATION</th>\n      <td>131</td>\n      <td>0.205725</td>\n      <td>4.036441</td>\n    </tr>\n    <tr>\n      <th>MEDICAL</th>\n      <td>395</td>\n      <td>2.520759</td>\n      <td>4.166552</td>\n    </tr>\n    <tr>\n      <th>NEWS_AND_MAGAZINES</th>\n      <td>254</td>\n      <td>0.015669</td>\n      <td>4.121569</td>\n    </tr>\n    <tr>\n      <th>PARENTING</th>\n      <td>60</td>\n      <td>0.159667</td>\n      <td>4.300000</td>\n    </tr>\n    <tr>\n      <th>PERSONALIZATION</th>\n      <td>376</td>\n      <td>0.400213</td>\n      <td>4.332215</td>\n    </tr>\n    <tr>\n      <th>PHOTOGRAPHY</th>\n      <td>281</td>\n      <td>0.420925</td>\n      <td>4.157414</td>\n    </tr>\n    <tr>\n      <th>PRODUCTIVITY</th>\n      <td>374</td>\n      <td>0.670936</td>\n      <td>4.183389</td>\n    </tr>\n    <tr>\n      <th>SHOPPING</th>\n      <td>202</td>\n      <td>0.027129</td>\n      <td>4.230000</td>\n    </tr>\n    <tr>\n      <th>SOCIAL</th>\n      <td>239</td>\n      <td>0.066820</td>\n      <td>4.247291</td>\n    </tr>\n    <tr>\n      <th>SPORTS</th>\n      <td>325</td>\n      <td>0.307692</td>\n      <td>4.216154</td>\n    </tr>\n    <tr>\n      <th>TOOLS</th>\n      <td>827</td>\n      <td>0.323156</td>\n      <td>4.039554</td>\n    </tr>\n    <tr>\n      <th>TRAVEL_AND_LOCAL</th>\n      <td>219</td>\n      <td>0.228082</td>\n      <td>4.069519</td>\n    </tr>\n    <tr>\n      <th>VIDEO_PLAYERS</th>\n      <td>163</td>\n      <td>0.064172</td>\n      <td>4.044595</td>\n    </tr>\n    <tr>\n      <th>WEATHER</th>\n      <td>79</td>\n      <td>0.410380</td>\n      <td>4.243056</td>\n    </tr>\n  </tbody>\n</table>\n</div>"
          },
          "metadata": {}
        }
      ]
    },
    {
      "metadata": {
        "dc": {
          "key": "4"
        },
        "trusted": true,
        "id": "9Nvd24qy3Hpq",
        "outputId": "73925da8-7965-4e86-b848-e21b591cc5d2"
      },
      "cell_type": "code",
      "source": [
        "app_category_info = app_category_info.rename(columns={'App': 'Number of apps', 'Price': 'Average price', 'Rating': 'Average rating'})\n",
        "app_category_info"
      ],
      "execution_count": null,
      "outputs": [
        {
          "output_type": "execute_result",
          "execution_count": 57,
          "data": {
            "text/plain": "                     Number of apps  Average price  Average rating\nCategory                                                          \nART_AND_DESIGN                   64       0.093281        4.357377\nAUTO_AND_VEHICLES                85       0.158471        4.190411\nBEAUTY                           53       0.000000        4.278571\nBOOKS_AND_REFERENCE             222       0.539505        4.344970\nBUSINESS                        420       0.417357        4.098479\nCOMICS                           56       0.000000        4.181481\nCOMMUNICATION                   315       0.263937        4.121484\nDATING                          171       0.160468        3.970149\nEDUCATION                       119       0.150924        4.364407\nENTERTAINMENT                   102       0.078235        4.135294\nEVENTS                           64       1.718594        4.435556\nFAMILY                         1832       1.309967        4.179664\nFINANCE                         345       8.408203        4.115563\nFOOD_AND_DRINK                  112       0.075714        4.172340\nGAME                            959       0.296465        4.247368\nHEALTH_AND_FITNESS              288       0.223438        4.243033\nHOUSE_AND_HOME                   74       0.000000        4.150000\nLIBRARIES_AND_DEMO               84       0.011786        4.178125\nLIFESTYLE                       369       6.398022        4.093355\nMAPS_AND_NAVIGATION             131       0.205725        4.036441\nMEDICAL                         395       2.520759        4.166552\nNEWS_AND_MAGAZINES              254       0.015669        4.121569\nPARENTING                        60       0.159667        4.300000\nPERSONALIZATION                 376       0.400213        4.332215\nPHOTOGRAPHY                     281       0.420925        4.157414\nPRODUCTIVITY                    374       0.670936        4.183389\nSHOPPING                        202       0.027129        4.230000\nSOCIAL                          239       0.066820        4.247291\nSPORTS                          325       0.307692        4.216154\nTOOLS                           827       0.323156        4.039554\nTRAVEL_AND_LOCAL                219       0.228082        4.069519\nVIDEO_PLAYERS                   163       0.064172        4.044595\nWEATHER                          79       0.410380        4.243056",
            "text/html": "<div>\n<style scoped>\n    .dataframe tbody tr th:only-of-type {\n        vertical-align: middle;\n    }\n\n    .dataframe tbody tr th {\n        vertical-align: top;\n    }\n\n    .dataframe thead th {\n        text-align: right;\n    }\n</style>\n<table border=\"1\" class=\"dataframe\">\n  <thead>\n    <tr style=\"text-align: right;\">\n      <th></th>\n      <th>Number of apps</th>\n      <th>Average price</th>\n      <th>Average rating</th>\n    </tr>\n    <tr>\n      <th>Category</th>\n      <th></th>\n      <th></th>\n      <th></th>\n    </tr>\n  </thead>\n  <tbody>\n    <tr>\n      <th>ART_AND_DESIGN</th>\n      <td>64</td>\n      <td>0.093281</td>\n      <td>4.357377</td>\n    </tr>\n    <tr>\n      <th>AUTO_AND_VEHICLES</th>\n      <td>85</td>\n      <td>0.158471</td>\n      <td>4.190411</td>\n    </tr>\n    <tr>\n      <th>BEAUTY</th>\n      <td>53</td>\n      <td>0.000000</td>\n      <td>4.278571</td>\n    </tr>\n    <tr>\n      <th>BOOKS_AND_REFERENCE</th>\n      <td>222</td>\n      <td>0.539505</td>\n      <td>4.344970</td>\n    </tr>\n    <tr>\n      <th>BUSINESS</th>\n      <td>420</td>\n      <td>0.417357</td>\n      <td>4.098479</td>\n    </tr>\n    <tr>\n      <th>COMICS</th>\n      <td>56</td>\n      <td>0.000000</td>\n      <td>4.181481</td>\n    </tr>\n    <tr>\n      <th>COMMUNICATION</th>\n      <td>315</td>\n      <td>0.263937</td>\n      <td>4.121484</td>\n    </tr>\n    <tr>\n      <th>DATING</th>\n      <td>171</td>\n      <td>0.160468</td>\n      <td>3.970149</td>\n    </tr>\n    <tr>\n      <th>EDUCATION</th>\n      <td>119</td>\n      <td>0.150924</td>\n      <td>4.364407</td>\n    </tr>\n    <tr>\n      <th>ENTERTAINMENT</th>\n      <td>102</td>\n      <td>0.078235</td>\n      <td>4.135294</td>\n    </tr>\n    <tr>\n      <th>EVENTS</th>\n      <td>64</td>\n      <td>1.718594</td>\n      <td>4.435556</td>\n    </tr>\n    <tr>\n      <th>FAMILY</th>\n      <td>1832</td>\n      <td>1.309967</td>\n      <td>4.179664</td>\n    </tr>\n    <tr>\n      <th>FINANCE</th>\n      <td>345</td>\n      <td>8.408203</td>\n      <td>4.115563</td>\n    </tr>\n    <tr>\n      <th>FOOD_AND_DRINK</th>\n      <td>112</td>\n      <td>0.075714</td>\n      <td>4.172340</td>\n    </tr>\n    <tr>\n      <th>GAME</th>\n      <td>959</td>\n      <td>0.296465</td>\n      <td>4.247368</td>\n    </tr>\n    <tr>\n      <th>HEALTH_AND_FITNESS</th>\n      <td>288</td>\n      <td>0.223438</td>\n      <td>4.243033</td>\n    </tr>\n    <tr>\n      <th>HOUSE_AND_HOME</th>\n      <td>74</td>\n      <td>0.000000</td>\n      <td>4.150000</td>\n    </tr>\n    <tr>\n      <th>LIBRARIES_AND_DEMO</th>\n      <td>84</td>\n      <td>0.011786</td>\n      <td>4.178125</td>\n    </tr>\n    <tr>\n      <th>LIFESTYLE</th>\n      <td>369</td>\n      <td>6.398022</td>\n      <td>4.093355</td>\n    </tr>\n    <tr>\n      <th>MAPS_AND_NAVIGATION</th>\n      <td>131</td>\n      <td>0.205725</td>\n      <td>4.036441</td>\n    </tr>\n    <tr>\n      <th>MEDICAL</th>\n      <td>395</td>\n      <td>2.520759</td>\n      <td>4.166552</td>\n    </tr>\n    <tr>\n      <th>NEWS_AND_MAGAZINES</th>\n      <td>254</td>\n      <td>0.015669</td>\n      <td>4.121569</td>\n    </tr>\n    <tr>\n      <th>PARENTING</th>\n      <td>60</td>\n      <td>0.159667</td>\n      <td>4.300000</td>\n    </tr>\n    <tr>\n      <th>PERSONALIZATION</th>\n      <td>376</td>\n      <td>0.400213</td>\n      <td>4.332215</td>\n    </tr>\n    <tr>\n      <th>PHOTOGRAPHY</th>\n      <td>281</td>\n      <td>0.420925</td>\n      <td>4.157414</td>\n    </tr>\n    <tr>\n      <th>PRODUCTIVITY</th>\n      <td>374</td>\n      <td>0.670936</td>\n      <td>4.183389</td>\n    </tr>\n    <tr>\n      <th>SHOPPING</th>\n      <td>202</td>\n      <td>0.027129</td>\n      <td>4.230000</td>\n    </tr>\n    <tr>\n      <th>SOCIAL</th>\n      <td>239</td>\n      <td>0.066820</td>\n      <td>4.247291</td>\n    </tr>\n    <tr>\n      <th>SPORTS</th>\n      <td>325</td>\n      <td>0.307692</td>\n      <td>4.216154</td>\n    </tr>\n    <tr>\n      <th>TOOLS</th>\n      <td>827</td>\n      <td>0.323156</td>\n      <td>4.039554</td>\n    </tr>\n    <tr>\n      <th>TRAVEL_AND_LOCAL</th>\n      <td>219</td>\n      <td>0.228082</td>\n      <td>4.069519</td>\n    </tr>\n    <tr>\n      <th>VIDEO_PLAYERS</th>\n      <td>163</td>\n      <td>0.064172</td>\n      <td>4.044595</td>\n    </tr>\n    <tr>\n      <th>WEATHER</th>\n      <td>79</td>\n      <td>0.410380</td>\n      <td>4.243056</td>\n    </tr>\n  </tbody>\n</table>\n</div>"
          },
          "metadata": {}
        }
      ]
    },
    {
      "metadata": {
        "dc": {
          "key": "4"
        },
        "trusted": true,
        "id": "5jzj3XbX3Hps",
        "outputId": "f1c87a77-6790-426e-e32a-6f5b6ad6fc4a"
      },
      "cell_type": "code",
      "source": [
        "reviews = pd.read_csv('datasets/user_reviews.csv')\n",
        "reviews.info()\n",
        "reviews.head()"
      ],
      "execution_count": null,
      "outputs": [
        {
          "output_type": "stream",
          "text": "<class 'pandas.core.frame.DataFrame'>\nRangeIndex: 64295 entries, 0 to 64294\nData columns (total 4 columns):\nApp                   64295 non-null object\nReview                37427 non-null object\nSentiment Category    37432 non-null object\nSentiment Score       37432 non-null float64\ndtypes: float64(1), object(3)\nmemory usage: 2.0+ MB\n",
          "name": "stdout"
        },
        {
          "output_type": "execute_result",
          "execution_count": 58,
          "data": {
            "text/plain": "                     App                                             Review  \\\n0  10 Best Foods for You  I like eat delicious food. That's I'm cooking ...   \n1  10 Best Foods for You    This help eating healthy exercise regular basis   \n2  10 Best Foods for You                                                NaN   \n3  10 Best Foods for You         Works great especially going grocery store   \n4  10 Best Foods for You                                       Best idea us   \n\n  Sentiment Category  Sentiment Score  \n0           Positive             1.00  \n1           Positive             0.25  \n2                NaN              NaN  \n3           Positive             0.40  \n4           Positive             1.00  ",
            "text/html": "<div>\n<style scoped>\n    .dataframe tbody tr th:only-of-type {\n        vertical-align: middle;\n    }\n\n    .dataframe tbody tr th {\n        vertical-align: top;\n    }\n\n    .dataframe thead th {\n        text-align: right;\n    }\n</style>\n<table border=\"1\" class=\"dataframe\">\n  <thead>\n    <tr style=\"text-align: right;\">\n      <th></th>\n      <th>App</th>\n      <th>Review</th>\n      <th>Sentiment Category</th>\n      <th>Sentiment Score</th>\n    </tr>\n  </thead>\n  <tbody>\n    <tr>\n      <th>0</th>\n      <td>10 Best Foods for You</td>\n      <td>I like eat delicious food. That's I'm cooking ...</td>\n      <td>Positive</td>\n      <td>1.00</td>\n    </tr>\n    <tr>\n      <th>1</th>\n      <td>10 Best Foods for You</td>\n      <td>This help eating healthy exercise regular basis</td>\n      <td>Positive</td>\n      <td>0.25</td>\n    </tr>\n    <tr>\n      <th>2</th>\n      <td>10 Best Foods for You</td>\n      <td>NaN</td>\n      <td>NaN</td>\n      <td>NaN</td>\n    </tr>\n    <tr>\n      <th>3</th>\n      <td>10 Best Foods for You</td>\n      <td>Works great especially going grocery store</td>\n      <td>Positive</td>\n      <td>0.40</td>\n    </tr>\n    <tr>\n      <th>4</th>\n      <td>10 Best Foods for You</td>\n      <td>Best idea us</td>\n      <td>Positive</td>\n      <td>1.00</td>\n    </tr>\n  </tbody>\n</table>\n</div>"
          },
          "metadata": {}
        }
      ]
    },
    {
      "metadata": {
        "dc": {
          "key": "4"
        },
        "trusted": true,
        "id": "te2wlGto3Hpu",
        "outputId": "9505f400-327d-45df-ce7a-9493dd786f49"
      },
      "cell_type": "code",
      "source": [
        "finance_apps = apps[apps['Category'] == 'FINANCE']\n",
        "finance_apps.head()"
      ],
      "execution_count": null,
      "outputs": [
        {
          "output_type": "execute_result",
          "execution_count": 59,
          "data": {
            "text/plain": "                   App Category  Rating  Reviews  Size  Installs  Type  Price  \\\n837             K PLUS  FINANCE     4.4   124424   NaN  10000000  Free    0.0   \n838        ING Banking  FINANCE     4.4    39041   NaN   1000000  Free    0.0   \n839  Citibanamex Movil  FINANCE     3.6    52306  42.0   5000000  Free    0.0   \n840    The postal bank  FINANCE     3.7    36718   NaN   5000000  Free    0.0   \n841        KTB Netbank  FINANCE     3.8    42644  19.0   5000000  Free    0.0   \n\n       Last Updated  \n837   June 26, 2018  \n838  August 3, 2018  \n839   July 27, 2018  \n840   July 16, 2018  \n841   June 28, 2018  ",
            "text/html": "<div>\n<style scoped>\n    .dataframe tbody tr th:only-of-type {\n        vertical-align: middle;\n    }\n\n    .dataframe tbody tr th {\n        vertical-align: top;\n    }\n\n    .dataframe thead th {\n        text-align: right;\n    }\n</style>\n<table border=\"1\" class=\"dataframe\">\n  <thead>\n    <tr style=\"text-align: right;\">\n      <th></th>\n      <th>App</th>\n      <th>Category</th>\n      <th>Rating</th>\n      <th>Reviews</th>\n      <th>Size</th>\n      <th>Installs</th>\n      <th>Type</th>\n      <th>Price</th>\n      <th>Last Updated</th>\n    </tr>\n  </thead>\n  <tbody>\n    <tr>\n      <th>837</th>\n      <td>K PLUS</td>\n      <td>FINANCE</td>\n      <td>4.4</td>\n      <td>124424</td>\n      <td>NaN</td>\n      <td>10000000</td>\n      <td>Free</td>\n      <td>0.0</td>\n      <td>June 26, 2018</td>\n    </tr>\n    <tr>\n      <th>838</th>\n      <td>ING Banking</td>\n      <td>FINANCE</td>\n      <td>4.4</td>\n      <td>39041</td>\n      <td>NaN</td>\n      <td>1000000</td>\n      <td>Free</td>\n      <td>0.0</td>\n      <td>August 3, 2018</td>\n    </tr>\n    <tr>\n      <th>839</th>\n      <td>Citibanamex Movil</td>\n      <td>FINANCE</td>\n      <td>3.6</td>\n      <td>52306</td>\n      <td>42.0</td>\n      <td>5000000</td>\n      <td>Free</td>\n      <td>0.0</td>\n      <td>July 27, 2018</td>\n    </tr>\n    <tr>\n      <th>840</th>\n      <td>The postal bank</td>\n      <td>FINANCE</td>\n      <td>3.7</td>\n      <td>36718</td>\n      <td>NaN</td>\n      <td>5000000</td>\n      <td>Free</td>\n      <td>0.0</td>\n      <td>July 16, 2018</td>\n    </tr>\n    <tr>\n      <th>841</th>\n      <td>KTB Netbank</td>\n      <td>FINANCE</td>\n      <td>3.8</td>\n      <td>42644</td>\n      <td>19.0</td>\n      <td>5000000</td>\n      <td>Free</td>\n      <td>0.0</td>\n      <td>June 28, 2018</td>\n    </tr>\n  </tbody>\n</table>\n</div>"
          },
          "metadata": {}
        }
      ]
    },
    {
      "metadata": {
        "dc": {
          "key": "4"
        },
        "trusted": true,
        "id": "vhvSK5Jo3Hpv",
        "outputId": "f4455475-fc77-44bb-adc8-0c292a544fb9"
      },
      "cell_type": "code",
      "source": [
        "free_finance_apps = finance_apps[finance_apps['Type'] == 'Free']\n",
        "free_finance_apps.head()"
      ],
      "execution_count": null,
      "outputs": [
        {
          "output_type": "execute_result",
          "execution_count": 60,
          "data": {
            "text/plain": "                   App Category  Rating  Reviews  Size  Installs  Type  Price  \\\n837             K PLUS  FINANCE     4.4   124424   NaN  10000000  Free    0.0   \n838        ING Banking  FINANCE     4.4    39041   NaN   1000000  Free    0.0   \n839  Citibanamex Movil  FINANCE     3.6    52306  42.0   5000000  Free    0.0   \n840    The postal bank  FINANCE     3.7    36718   NaN   5000000  Free    0.0   \n841        KTB Netbank  FINANCE     3.8    42644  19.0   5000000  Free    0.0   \n\n       Last Updated  \n837   June 26, 2018  \n838  August 3, 2018  \n839   July 27, 2018  \n840   July 16, 2018  \n841   June 28, 2018  ",
            "text/html": "<div>\n<style scoped>\n    .dataframe tbody tr th:only-of-type {\n        vertical-align: middle;\n    }\n\n    .dataframe tbody tr th {\n        vertical-align: top;\n    }\n\n    .dataframe thead th {\n        text-align: right;\n    }\n</style>\n<table border=\"1\" class=\"dataframe\">\n  <thead>\n    <tr style=\"text-align: right;\">\n      <th></th>\n      <th>App</th>\n      <th>Category</th>\n      <th>Rating</th>\n      <th>Reviews</th>\n      <th>Size</th>\n      <th>Installs</th>\n      <th>Type</th>\n      <th>Price</th>\n      <th>Last Updated</th>\n    </tr>\n  </thead>\n  <tbody>\n    <tr>\n      <th>837</th>\n      <td>K PLUS</td>\n      <td>FINANCE</td>\n      <td>4.4</td>\n      <td>124424</td>\n      <td>NaN</td>\n      <td>10000000</td>\n      <td>Free</td>\n      <td>0.0</td>\n      <td>June 26, 2018</td>\n    </tr>\n    <tr>\n      <th>838</th>\n      <td>ING Banking</td>\n      <td>FINANCE</td>\n      <td>4.4</td>\n      <td>39041</td>\n      <td>NaN</td>\n      <td>1000000</td>\n      <td>Free</td>\n      <td>0.0</td>\n      <td>August 3, 2018</td>\n    </tr>\n    <tr>\n      <th>839</th>\n      <td>Citibanamex Movil</td>\n      <td>FINANCE</td>\n      <td>3.6</td>\n      <td>52306</td>\n      <td>42.0</td>\n      <td>5000000</td>\n      <td>Free</td>\n      <td>0.0</td>\n      <td>July 27, 2018</td>\n    </tr>\n    <tr>\n      <th>840</th>\n      <td>The postal bank</td>\n      <td>FINANCE</td>\n      <td>3.7</td>\n      <td>36718</td>\n      <td>NaN</td>\n      <td>5000000</td>\n      <td>Free</td>\n      <td>0.0</td>\n      <td>July 16, 2018</td>\n    </tr>\n    <tr>\n      <th>841</th>\n      <td>KTB Netbank</td>\n      <td>FINANCE</td>\n      <td>3.8</td>\n      <td>42644</td>\n      <td>19.0</td>\n      <td>5000000</td>\n      <td>Free</td>\n      <td>0.0</td>\n      <td>June 28, 2018</td>\n    </tr>\n  </tbody>\n</table>\n</div>"
          },
          "metadata": {}
        }
      ]
    },
    {
      "metadata": {
        "dc": {
          "key": "4"
        },
        "trusted": true,
        "id": "XBd59cs73Hpv",
        "outputId": "aa707c80-b064-4320-ad6f-6de9ddd364a9"
      },
      "cell_type": "code",
      "source": [
        "merged_df = pd.merge(free_finance_apps, reviews, on = 'App')\n",
        "merged_df.head()"
      ],
      "execution_count": null,
      "outputs": [
        {
          "output_type": "execute_result",
          "execution_count": 61,
          "data": {
            "text/plain": "                 App Category  Rating  Reviews  Size  Installs  Type  Price  \\\n0  Citibanamex Movil  FINANCE     3.6    52306  42.0   5000000  Free    0.0   \n1  Citibanamex Movil  FINANCE     3.6    52306  42.0   5000000  Free    0.0   \n2  Citibanamex Movil  FINANCE     3.6    52306  42.0   5000000  Free    0.0   \n3  Citibanamex Movil  FINANCE     3.6    52306  42.0   5000000  Free    0.0   \n4  Citibanamex Movil  FINANCE     3.6    52306  42.0   5000000  Free    0.0   \n\n    Last Updated                                             Review  \\\n0  July 27, 2018  Forget paying app, designed make fail payments...   \n1  July 27, 2018  It's working expected, talking best bank Mexic...   \n2  July 27, 2018  It has many problems with Android 8.1. You can...   \n3  July 27, 2018  I changed my phone to a Xiaomi Redmi Note 5, t...   \n4  July 27, 2018  In her eagerness to make her look pretty with ...   \n\n  Sentiment Category  Sentiment Score  \n0           Negative        -0.500000  \n1           Positive         0.400000  \n2           Positive         0.250000  \n3           Positive         0.175000  \n4           Negative        -0.158333  ",
            "text/html": "<div>\n<style scoped>\n    .dataframe tbody tr th:only-of-type {\n        vertical-align: middle;\n    }\n\n    .dataframe tbody tr th {\n        vertical-align: top;\n    }\n\n    .dataframe thead th {\n        text-align: right;\n    }\n</style>\n<table border=\"1\" class=\"dataframe\">\n  <thead>\n    <tr style=\"text-align: right;\">\n      <th></th>\n      <th>App</th>\n      <th>Category</th>\n      <th>Rating</th>\n      <th>Reviews</th>\n      <th>Size</th>\n      <th>Installs</th>\n      <th>Type</th>\n      <th>Price</th>\n      <th>Last Updated</th>\n      <th>Review</th>\n      <th>Sentiment Category</th>\n      <th>Sentiment Score</th>\n    </tr>\n  </thead>\n  <tbody>\n    <tr>\n      <th>0</th>\n      <td>Citibanamex Movil</td>\n      <td>FINANCE</td>\n      <td>3.6</td>\n      <td>52306</td>\n      <td>42.0</td>\n      <td>5000000</td>\n      <td>Free</td>\n      <td>0.0</td>\n      <td>July 27, 2018</td>\n      <td>Forget paying app, designed make fail payments...</td>\n      <td>Negative</td>\n      <td>-0.500000</td>\n    </tr>\n    <tr>\n      <th>1</th>\n      <td>Citibanamex Movil</td>\n      <td>FINANCE</td>\n      <td>3.6</td>\n      <td>52306</td>\n      <td>42.0</td>\n      <td>5000000</td>\n      <td>Free</td>\n      <td>0.0</td>\n      <td>July 27, 2018</td>\n      <td>It's working expected, talking best bank Mexic...</td>\n      <td>Positive</td>\n      <td>0.400000</td>\n    </tr>\n    <tr>\n      <th>2</th>\n      <td>Citibanamex Movil</td>\n      <td>FINANCE</td>\n      <td>3.6</td>\n      <td>52306</td>\n      <td>42.0</td>\n      <td>5000000</td>\n      <td>Free</td>\n      <td>0.0</td>\n      <td>July 27, 2018</td>\n      <td>It has many problems with Android 8.1. You can...</td>\n      <td>Positive</td>\n      <td>0.250000</td>\n    </tr>\n    <tr>\n      <th>3</th>\n      <td>Citibanamex Movil</td>\n      <td>FINANCE</td>\n      <td>3.6</td>\n      <td>52306</td>\n      <td>42.0</td>\n      <td>5000000</td>\n      <td>Free</td>\n      <td>0.0</td>\n      <td>July 27, 2018</td>\n      <td>I changed my phone to a Xiaomi Redmi Note 5, t...</td>\n      <td>Positive</td>\n      <td>0.175000</td>\n    </tr>\n    <tr>\n      <th>4</th>\n      <td>Citibanamex Movil</td>\n      <td>FINANCE</td>\n      <td>3.6</td>\n      <td>52306</td>\n      <td>42.0</td>\n      <td>5000000</td>\n      <td>Free</td>\n      <td>0.0</td>\n      <td>July 27, 2018</td>\n      <td>In her eagerness to make her look pretty with ...</td>\n      <td>Negative</td>\n      <td>-0.158333</td>\n    </tr>\n  </tbody>\n</table>\n</div>"
          },
          "metadata": {}
        }
      ]
    },
    {
      "metadata": {
        "dc": {
          "key": "4"
        },
        "trusted": true,
        "id": "jXJO9zmh3Hpw",
        "outputId": "3d5f85e0-20e6-46b6-d387-e45658f48454"
      },
      "cell_type": "code",
      "source": [
        "app_sentiment_score = merged_df.groupby('App').agg({'Sentiment Score': 'mean'})\n",
        "app_sentiment_score.head()"
      ],
      "execution_count": null,
      "outputs": [
        {
          "output_type": "execute_result",
          "execution_count": 62,
          "data": {
            "text/plain": "                                Sentiment Score\nApp                                            \nA+ Mobile                              0.329592\nACE Elite                              0.252171\nAcorns - Invest Spare Change           0.046667\nAmex Mobile                            0.175666\nAssociated Credit Union Mobile         0.388093",
            "text/html": "<div>\n<style scoped>\n    .dataframe tbody tr th:only-of-type {\n        vertical-align: middle;\n    }\n\n    .dataframe tbody tr th {\n        vertical-align: top;\n    }\n\n    .dataframe thead th {\n        text-align: right;\n    }\n</style>\n<table border=\"1\" class=\"dataframe\">\n  <thead>\n    <tr style=\"text-align: right;\">\n      <th></th>\n      <th>Sentiment Score</th>\n    </tr>\n    <tr>\n      <th>App</th>\n      <th></th>\n    </tr>\n  </thead>\n  <tbody>\n    <tr>\n      <th>A+ Mobile</th>\n      <td>0.329592</td>\n    </tr>\n    <tr>\n      <th>ACE Elite</th>\n      <td>0.252171</td>\n    </tr>\n    <tr>\n      <th>Acorns - Invest Spare Change</th>\n      <td>0.046667</td>\n    </tr>\n    <tr>\n      <th>Amex Mobile</th>\n      <td>0.175666</td>\n    </tr>\n    <tr>\n      <th>Associated Credit Union Mobile</th>\n      <td>0.388093</td>\n    </tr>\n  </tbody>\n</table>\n</div>"
          },
          "metadata": {}
        }
      ]
    },
    {
      "metadata": {
        "dc": {
          "key": "4"
        },
        "trusted": true,
        "id": "wKpj4zVF3Hpw",
        "outputId": "1c651bc4-0ba8-43f4-fef8-ad92d8162add"
      },
      "cell_type": "code",
      "source": [
        "user_feedback = app_sentiment_score.sort_values(by='Sentiment Score', ascending=False)\n",
        "user_feedback"
      ],
      "execution_count": null,
      "outputs": [
        {
          "output_type": "execute_result",
          "execution_count": 63,
          "data": {
            "text/plain": "                                                 Sentiment Score\nApp                                                             \nBBVA Spain                                              0.515086\nAssociated Credit Union Mobile                          0.388093\nBankMobile Vibe App                                     0.353455\nA+ Mobile                                               0.329592\nCurrent debit card and app made for teens               0.327258\nBZWBK24 mobile                                          0.326883\nEven - organize your money, get paid early              0.283929\nCredit Karma                                            0.270052\nFortune City - A Finance App                            0.266966\nBranch                                                  0.264230\nACE Elite                                               0.252171\nDigit Save Money Automatically                          0.250246\nCNBC: Breaking Business News & Live Market Data         0.247704\nCreditWise from Capital One                             0.239454\nExpense IQ Money Manager                                0.227506\nBBVA Compass Banking                                    0.205590\nBank of America Mobile Banking                          0.180027\nAmex Mobile                                             0.175666\nExperian - Free Credit Report                           0.170504\nFresh EBT - Food Stamp Balance                          0.159727\nE*TRADE Mobile                                          0.153273\nCitibanamex Movil                                       0.150061\nBetterment                                              0.143252\nBanorte Movil                                           0.116999\nGoogle Pay                                              0.115687\nHDFC Bank MobileBanking                                 0.111449\nFox Business                                            0.088827\nCredit Sesame                                           0.088667\nChase Mobile                                            0.048166\nAcorns - Invest Spare Change                            0.046667\nGoBank                                                  0.039101\nGCash - Buy Load, Pay Bills, Send Money                 0.027082\nBarclays US for Android                                 0.017928\nCitizens Bank Mobile Banking                            0.013179\nBualuang mBanking                                       0.004322\nEcobank Mobile Banking                                 -0.014860\nBloomberg Professional                                 -0.023353\nCiti Mobile®                                           -0.038731\nDiscover Mobile                                        -0.041667\nBluebird by American Express                                 NaN\nCapital One® Mobile                                          NaN\nCapitec Remote Banking                                       NaN\nCash App                                                     NaN\nChime - Mobile Banking                                       NaN\nEverlance: Free Mileage Log                                  NaN\nFREE Stock Market Trading Tips                               NaN",
            "text/html": "<div>\n<style scoped>\n    .dataframe tbody tr th:only-of-type {\n        vertical-align: middle;\n    }\n\n    .dataframe tbody tr th {\n        vertical-align: top;\n    }\n\n    .dataframe thead th {\n        text-align: right;\n    }\n</style>\n<table border=\"1\" class=\"dataframe\">\n  <thead>\n    <tr style=\"text-align: right;\">\n      <th></th>\n      <th>Sentiment Score</th>\n    </tr>\n    <tr>\n      <th>App</th>\n      <th></th>\n    </tr>\n  </thead>\n  <tbody>\n    <tr>\n      <th>BBVA Spain</th>\n      <td>0.515086</td>\n    </tr>\n    <tr>\n      <th>Associated Credit Union Mobile</th>\n      <td>0.388093</td>\n    </tr>\n    <tr>\n      <th>BankMobile Vibe App</th>\n      <td>0.353455</td>\n    </tr>\n    <tr>\n      <th>A+ Mobile</th>\n      <td>0.329592</td>\n    </tr>\n    <tr>\n      <th>Current debit card and app made for teens</th>\n      <td>0.327258</td>\n    </tr>\n    <tr>\n      <th>BZWBK24 mobile</th>\n      <td>0.326883</td>\n    </tr>\n    <tr>\n      <th>Even - organize your money, get paid early</th>\n      <td>0.283929</td>\n    </tr>\n    <tr>\n      <th>Credit Karma</th>\n      <td>0.270052</td>\n    </tr>\n    <tr>\n      <th>Fortune City - A Finance App</th>\n      <td>0.266966</td>\n    </tr>\n    <tr>\n      <th>Branch</th>\n      <td>0.264230</td>\n    </tr>\n    <tr>\n      <th>ACE Elite</th>\n      <td>0.252171</td>\n    </tr>\n    <tr>\n      <th>Digit Save Money Automatically</th>\n      <td>0.250246</td>\n    </tr>\n    <tr>\n      <th>CNBC: Breaking Business News &amp; Live Market Data</th>\n      <td>0.247704</td>\n    </tr>\n    <tr>\n      <th>CreditWise from Capital One</th>\n      <td>0.239454</td>\n    </tr>\n    <tr>\n      <th>Expense IQ Money Manager</th>\n      <td>0.227506</td>\n    </tr>\n    <tr>\n      <th>BBVA Compass Banking</th>\n      <td>0.205590</td>\n    </tr>\n    <tr>\n      <th>Bank of America Mobile Banking</th>\n      <td>0.180027</td>\n    </tr>\n    <tr>\n      <th>Amex Mobile</th>\n      <td>0.175666</td>\n    </tr>\n    <tr>\n      <th>Experian - Free Credit Report</th>\n      <td>0.170504</td>\n    </tr>\n    <tr>\n      <th>Fresh EBT - Food Stamp Balance</th>\n      <td>0.159727</td>\n    </tr>\n    <tr>\n      <th>E*TRADE Mobile</th>\n      <td>0.153273</td>\n    </tr>\n    <tr>\n      <th>Citibanamex Movil</th>\n      <td>0.150061</td>\n    </tr>\n    <tr>\n      <th>Betterment</th>\n      <td>0.143252</td>\n    </tr>\n    <tr>\n      <th>Banorte Movil</th>\n      <td>0.116999</td>\n    </tr>\n    <tr>\n      <th>Google Pay</th>\n      <td>0.115687</td>\n    </tr>\n    <tr>\n      <th>HDFC Bank MobileBanking</th>\n      <td>0.111449</td>\n    </tr>\n    <tr>\n      <th>Fox Business</th>\n      <td>0.088827</td>\n    </tr>\n    <tr>\n      <th>Credit Sesame</th>\n      <td>0.088667</td>\n    </tr>\n    <tr>\n      <th>Chase Mobile</th>\n      <td>0.048166</td>\n    </tr>\n    <tr>\n      <th>Acorns - Invest Spare Change</th>\n      <td>0.046667</td>\n    </tr>\n    <tr>\n      <th>GoBank</th>\n      <td>0.039101</td>\n    </tr>\n    <tr>\n      <th>GCash - Buy Load, Pay Bills, Send Money</th>\n      <td>0.027082</td>\n    </tr>\n    <tr>\n      <th>Barclays US for Android</th>\n      <td>0.017928</td>\n    </tr>\n    <tr>\n      <th>Citizens Bank Mobile Banking</th>\n      <td>0.013179</td>\n    </tr>\n    <tr>\n      <th>Bualuang mBanking</th>\n      <td>0.004322</td>\n    </tr>\n    <tr>\n      <th>Ecobank Mobile Banking</th>\n      <td>-0.014860</td>\n    </tr>\n    <tr>\n      <th>Bloomberg Professional</th>\n      <td>-0.023353</td>\n    </tr>\n    <tr>\n      <th>Citi Mobile®</th>\n      <td>-0.038731</td>\n    </tr>\n    <tr>\n      <th>Discover Mobile</th>\n      <td>-0.041667</td>\n    </tr>\n    <tr>\n      <th>Bluebird by American Express</th>\n      <td>NaN</td>\n    </tr>\n    <tr>\n      <th>Capital One® Mobile</th>\n      <td>NaN</td>\n    </tr>\n    <tr>\n      <th>Capitec Remote Banking</th>\n      <td>NaN</td>\n    </tr>\n    <tr>\n      <th>Cash App</th>\n      <td>NaN</td>\n    </tr>\n    <tr>\n      <th>Chime - Mobile Banking</th>\n      <td>NaN</td>\n    </tr>\n    <tr>\n      <th>Everlance: Free Mileage Log</th>\n      <td>NaN</td>\n    </tr>\n    <tr>\n      <th>FREE Stock Market Trading Tips</th>\n      <td>NaN</td>\n    </tr>\n  </tbody>\n</table>\n</div>"
          },
          "metadata": {}
        }
      ]
    },
    {
      "metadata": {
        "dc": {
          "key": "4"
        },
        "trusted": true,
        "id": "P9nrdLdI3Hpx",
        "outputId": "793a49fe-64dd-416d-f980-2cce77d66162"
      },
      "cell_type": "code",
      "source": [
        "top_10_user_feedback = user_feedback[:10]\n",
        "top_10_user_feedback"
      ],
      "execution_count": null,
      "outputs": [
        {
          "output_type": "execute_result",
          "execution_count": 64,
          "data": {
            "text/plain": "                                            Sentiment Score\nApp                                                        \nBBVA Spain                                         0.515086\nAssociated Credit Union Mobile                     0.388093\nBankMobile Vibe App                                0.353455\nA+ Mobile                                          0.329592\nCurrent debit card and app made for teens          0.327258\nBZWBK24 mobile                                     0.326883\nEven - organize your money, get paid early         0.283929\nCredit Karma                                       0.270052\nFortune City - A Finance App                       0.266966\nBranch                                             0.264230",
            "text/html": "<div>\n<style scoped>\n    .dataframe tbody tr th:only-of-type {\n        vertical-align: middle;\n    }\n\n    .dataframe tbody tr th {\n        vertical-align: top;\n    }\n\n    .dataframe thead th {\n        text-align: right;\n    }\n</style>\n<table border=\"1\" class=\"dataframe\">\n  <thead>\n    <tr style=\"text-align: right;\">\n      <th></th>\n      <th>Sentiment Score</th>\n    </tr>\n    <tr>\n      <th>App</th>\n      <th></th>\n    </tr>\n  </thead>\n  <tbody>\n    <tr>\n      <th>BBVA Spain</th>\n      <td>0.515086</td>\n    </tr>\n    <tr>\n      <th>Associated Credit Union Mobile</th>\n      <td>0.388093</td>\n    </tr>\n    <tr>\n      <th>BankMobile Vibe App</th>\n      <td>0.353455</td>\n    </tr>\n    <tr>\n      <th>A+ Mobile</th>\n      <td>0.329592</td>\n    </tr>\n    <tr>\n      <th>Current debit card and app made for teens</th>\n      <td>0.327258</td>\n    </tr>\n    <tr>\n      <th>BZWBK24 mobile</th>\n      <td>0.326883</td>\n    </tr>\n    <tr>\n      <th>Even - organize your money, get paid early</th>\n      <td>0.283929</td>\n    </tr>\n    <tr>\n      <th>Credit Karma</th>\n      <td>0.270052</td>\n    </tr>\n    <tr>\n      <th>Fortune City - A Finance App</th>\n      <td>0.266966</td>\n    </tr>\n    <tr>\n      <th>Branch</th>\n      <td>0.264230</td>\n    </tr>\n  </tbody>\n</table>\n</div>"
          },
          "metadata": {}
        }
      ]
    }
  ],
  "metadata": {
    "kernelspec": {
      "name": "python3",
      "display_name": "Python 3",
      "language": "python"
    },
    "language_info": {
      "name": "python",
      "version": "3.6.7",
      "mimetype": "text/x-python",
      "codemirror_mode": {
        "name": "ipython",
        "version": 3
      },
      "pygments_lexer": "ipython3",
      "nbconvert_exporter": "python",
      "file_extension": ".py"
    },
    "colab": {
      "name": "Unguided :The Android App Market on Google Play.ipynb",
      "provenance": [],
      "include_colab_link": true
    }
  },
  "nbformat": 4,
  "nbformat_minor": 0
}